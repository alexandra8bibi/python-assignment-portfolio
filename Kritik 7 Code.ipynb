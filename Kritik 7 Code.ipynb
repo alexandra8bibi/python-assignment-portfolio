{
 "cells": [
  {
   "cell_type": "code",
   "execution_count": 6,
   "id": "f64ba3ca-25a7-41aa-ac3a-5500dea2754e",
   "metadata": {},
   "outputs": [
    {
     "name": "stdout",
     "output_type": "stream",
     "text": [
      "Null hypothesis is dismissed - FALSE.\n"
     ]
    }
   ],
   "source": [
    "import numpy as np\n",
    "from scipy.stats import t\n",
    "\n",
    "def compute_t_statistic(observed_mean, expected_mean, observed_std, n):\n",
    "  \n",
    "    numerator = observed_mean - expected_mean\n",
    "    denominator = observed_std / np.sqrt(n)\n",
    "    t_statistic = numerator / denominator\n",
    "    return t_statistic\n",
    "\n",
    "def get_critical_t(alpha, df):\n",
    "   \n",
    "    critical_value = t.ppf(1 - alpha / 2, df)\n",
    "    return critical_value\n",
    "\n",
    "def run_hypothesis_test(data, hypothesized_mean):\n",
    "  \n",
    "    mean_of_data = np.mean(data)\n",
    "    std_dev_of_data = np.std(data, ddof=1)\n",
    "    size_of_data = len(data)\n",
    "    \n",
    "    t_stat = compute_t_statistic(mean_of_data, hypothesized_mean, std_dev_of_data, size_of_data)\n",
    "    critical_t = get_critical_t(0.05, size_of_data - 1)\n",
    "    \n",
    "    # Check if the t_stat falls within the critical region\n",
    "    if -critical_t < t_stat < critical_t:\n",
    "        print('Null hypothesis is confirmed - TRUE.')\n",
    "    else:\n",
    "        print('Null hypothesis is dismissed - FALSE.')\n",
    "\n",
    "def execute():\n",
    "    \n",
    "    data_points = [92.64, 79.00, 84.79, 97.41, 93.68, 65.23, 84.50, 73.49, 73.97, 79.11]\n",
    "    expected_mean_value = 75  # Hypothesized mean value\n",
    "    \n",
    "    run_hypothesis_test(data_points, expected_mean_value)\n",
    "\n",
    "if __name__ == \"__main__\":\n",
    "    execute()"
   ]
  },
  {
   "cell_type": "code",
   "execution_count": null,
   "id": "beaec82f-ef5a-4334-980e-af9612af5d0c",
   "metadata": {},
   "outputs": [],
   "source": []
  },
  {
   "cell_type": "code",
   "execution_count": null,
   "id": "ec49dd7d-6ca9-4b4d-a5e1-694ad9716e81",
   "metadata": {},
   "outputs": [],
   "source": []
  }
 ],
 "metadata": {
  "kernelspec": {
   "display_name": "Python 3 (ipykernel)",
   "language": "python",
   "name": "python3"
  },
  "language_info": {
   "codemirror_mode": {
    "name": "ipython",
    "version": 3
   },
   "file_extension": ".py",
   "mimetype": "text/x-python",
   "name": "python",
   "nbconvert_exporter": "python",
   "pygments_lexer": "ipython3",
   "version": "3.11.4"
  }
 },
 "nbformat": 4,
 "nbformat_minor": 5
}
