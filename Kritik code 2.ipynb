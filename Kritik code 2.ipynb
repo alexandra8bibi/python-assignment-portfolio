{
 "cells": [
  {
   "cell_type": "code",
   "execution_count": 5,
   "id": "4478830f-2c6a-46c3-9c9c-ffdd41516fac",
   "metadata": {},
   "outputs": [
    {
     "ename": "ValueError",
     "evalue": "math domain error",
     "output_type": "error",
     "traceback": [
      "\u001b[0;31m---------------------------------------------------------------------------\u001b[0m",
      "\u001b[0;31mValueError\u001b[0m                                Traceback (most recent call last)",
      "Cell \u001b[0;32mIn[5], line 28\u001b[0m\n\u001b[1;32m     25\u001b[0m f4 \u001b[38;5;241m=\u001b[39m \u001b[38;5;28;01mlambda\u001b[39;00m x: math\u001b[38;5;241m.\u001b[39mlog(math\u001b[38;5;241m.\u001b[39mcos(x))\n\u001b[1;32m     27\u001b[0m \u001b[38;5;66;03m# Find roots:\u001b[39;00m\n\u001b[0;32m---> 28\u001b[0m root1 \u001b[38;5;241m=\u001b[39m \u001b[43mroots\u001b[49m\u001b[43m(\u001b[49m\u001b[43mf1\u001b[49m\u001b[43m,\u001b[49m\u001b[43m \u001b[49m\u001b[38;5;241;43m0\u001b[39;49m\u001b[43m,\u001b[49m\u001b[43m \u001b[49m\u001b[38;5;241;43m1.00000000001\u001b[39;49m\u001b[43m,\u001b[49m\u001b[43m \u001b[49m\u001b[38;5;241;43m1e-10\u001b[39;49m\u001b[43m)\u001b[49m\n\u001b[1;32m     29\u001b[0m root2 \u001b[38;5;241m=\u001b[39m roots(f2, \u001b[38;5;241m0\u001b[39m, \u001b[38;5;241m2\u001b[39m, \u001b[38;5;241m1e-10\u001b[39m)\n\u001b[1;32m     30\u001b[0m root3 \u001b[38;5;241m=\u001b[39m roots(f3, \u001b[38;5;241m3\u001b[39m, \u001b[38;5;241m4\u001b[39m, \u001b[38;5;241m1e-10\u001b[39m)\n",
      "Cell \u001b[0;32mIn[5], line 19\u001b[0m, in \u001b[0;36mroots\u001b[0;34m(f, a, b, error_bound)\u001b[0m\n\u001b[1;32m     18\u001b[0m \u001b[38;5;28;01mdef\u001b[39;00m \u001b[38;5;21mroots\u001b[39m(f, a, b, error_bound \u001b[38;5;241m=\u001b[39m \u001b[38;5;241m1e-10\u001b[39m):\n\u001b[0;32m---> 19\u001b[0m     \u001b[38;5;28;01mreturn\u001b[39;00m \u001b[43mbisection\u001b[49m\u001b[43m(\u001b[49m\u001b[43mf\u001b[49m\u001b[43m,\u001b[49m\u001b[43m \u001b[49m\u001b[43ma\u001b[49m\u001b[43m,\u001b[49m\u001b[43m \u001b[49m\u001b[43mb\u001b[49m\u001b[43m,\u001b[49m\u001b[43m \u001b[49m\u001b[43merror_bound\u001b[49m\u001b[43m)\u001b[49m\n",
      "Cell \u001b[0;32mIn[5], line 10\u001b[0m, in \u001b[0;36mbisection\u001b[0;34m(f, a, b, error_bound)\u001b[0m\n\u001b[1;32m      8\u001b[0m \u001b[38;5;28;01mif\u001b[39;00m f(M) \u001b[38;5;241m==\u001b[39m \u001b[38;5;241m0\u001b[39m:\n\u001b[1;32m      9\u001b[0m     \u001b[38;5;28;01mreturn\u001b[39;00m M\n\u001b[0;32m---> 10\u001b[0m \u001b[38;5;28;01melif\u001b[39;00m f(M) \u001b[38;5;241m*\u001b[39m \u001b[43mf\u001b[49m\u001b[43m(\u001b[49m\u001b[43ma\u001b[49m\u001b[43m)\u001b[49m \u001b[38;5;241m<\u001b[39m \u001b[38;5;241m0\u001b[39m:\n\u001b[1;32m     11\u001b[0m     b \u001b[38;5;241m=\u001b[39m M\n\u001b[1;32m     12\u001b[0m \u001b[38;5;28;01melse\u001b[39;00m:\n",
      "Cell \u001b[0;32mIn[5], line 22\u001b[0m, in \u001b[0;36m<lambda>\u001b[0;34m(x)\u001b[0m\n\u001b[1;32m     19\u001b[0m     \u001b[38;5;28;01mreturn\u001b[39;00m bisection(f, a, b, error_bound)\n\u001b[1;32m     21\u001b[0m \u001b[38;5;66;03m# Define the functions:\u001b[39;00m\n\u001b[0;32m---> 22\u001b[0m f1 \u001b[38;5;241m=\u001b[39m \u001b[38;5;28;01mlambda\u001b[39;00m x: math\u001b[38;5;241m.\u001b[39mexp(x) \u001b[38;5;241m-\u001b[39m \u001b[43mmath\u001b[49m\u001b[38;5;241;43m.\u001b[39;49m\u001b[43mlog\u001b[49m\u001b[43m(\u001b[49m\u001b[43mx\u001b[49m\u001b[43m)\u001b[49m\n\u001b[1;32m     23\u001b[0m f2 \u001b[38;5;241m=\u001b[39m \u001b[38;5;28;01mlambda\u001b[39;00m x: math\u001b[38;5;241m.\u001b[39matan(x) \u001b[38;5;241m-\u001b[39m x\u001b[38;5;241m*\u001b[39m\u001b[38;5;241m*\u001b[39m\u001b[38;5;241m2\u001b[39m\n\u001b[1;32m     24\u001b[0m f3 \u001b[38;5;241m=\u001b[39m \u001b[38;5;28;01mlambda\u001b[39;00m x: math\u001b[38;5;241m.\u001b[39msin(x) \u001b[38;5;241m-\u001b[39m math\u001b[38;5;241m.\u001b[39mlog(x)\n",
      "\u001b[0;31mValueError\u001b[0m: math domain error"
     ]
    }
   ],
   "source": [
    "import math\n",
    "\n",
    "def bisection(f, a, b, error_bound = 1e-10):\n",
    "    \n",
    "    iter_count = 0\n",
    "    while (b - a) / 2 > error_bound:\n",
    "        M = (a + b) / 2\n",
    "        if f(M) == 0:\n",
    "            return M\n",
    "        elif f(M) * f(a) < 0:\n",
    "            b = M\n",
    "        else:\n",
    "            a = M\n",
    "        iter_count += 1\n",
    "\n",
    "    return (a + b) / 2\n",
    "\n",
    "def roots(f, a, b, error_bound = 1e-10):\n",
    "    return bisection(f, a, b, error_bound)\n",
    "\n",
    "# Define the functions:\n",
    "f1 = lambda x: math.exp(x) - math.log(x)\n",
    "f2 = lambda x: math.atan(x) - x**2\n",
    "f3 = lambda x: math.sin(x) - math.log(x)\n",
    "f4 = lambda x: math.log(math.cos(x))\n",
    "\n",
    "# Find roots:\n",
    "root1 = roots(f1, 0, 1.00000000001, 1e-10)\n",
    "root2 = roots(f2, 0, 2, 1e-10)\n",
    "root3 = roots(f3, 3, 4, 1e-10)\n",
    "root4 = roots(f4, 5, 7, 1e-10)\n",
    "\n",
    "# Print the results:\n",
    "print(f\"The root of f1(x) in the interval [0.000000000001, 1] is approximately {root1:.10f}.\")\n",
    "print(f\"The root of f2(x) in the interval [0, 2] is approximately {root2:.10f}.\")\n",
    "print(f\"The root of f3(x) in the interval [3, 4] is approximately {root3:.10f}.\")\n",
    "print(f\"The root of f4(x) in the interval [5, 7] is approximately {root4:.10f}.\")"
   ]
  },
  {
   "cell_type": "code",
   "execution_count": null,
   "id": "66f58246-4455-47f8-95d3-779a73042369",
   "metadata": {},
   "outputs": [],
   "source": []
  }
 ],
 "metadata": {
  "kernelspec": {
   "display_name": "Python 3 (ipykernel)",
   "language": "python",
   "name": "python3"
  },
  "language_info": {
   "codemirror_mode": {
    "name": "ipython",
    "version": 3
   },
   "file_extension": ".py",
   "mimetype": "text/x-python",
   "name": "python",
   "nbconvert_exporter": "python",
   "pygments_lexer": "ipython3",
   "version": "3.11.4"
  }
 },
 "nbformat": 4,
 "nbformat_minor": 5
}
